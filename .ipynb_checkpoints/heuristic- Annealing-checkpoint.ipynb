{
 "cells": [
  {
   "cell_type": "markdown",
   "metadata": {},
   "source": [
    "#### Heuristic Algorithm"
   ]
  },
  {
   "cell_type": "code",
   "execution_count": 136,
   "metadata": {},
   "outputs": [
    {
     "ename": "SyntaxError",
     "evalue": "unexpected EOF while parsing (<ipython-input-136-ac297d3cf2f3>, line 88)",
     "output_type": "error",
     "traceback": [
      "\u001b[1;36m  File \u001b[1;32m\"<ipython-input-136-ac297d3cf2f3>\"\u001b[1;36m, line \u001b[1;32m88\u001b[0m\n\u001b[1;33m    \u001b[0m\n\u001b[1;37m    ^\u001b[0m\n\u001b[1;31mSyntaxError\u001b[0m\u001b[1;31m:\u001b[0m unexpected EOF while parsing\n"
     ]
    }
   ],
   "source": [
    "import pprint\n",
    "import random\n",
    "import math\n",
    "\n",
    "#GREEDY ALGORTIHM   \n",
    "def greedy_algo(A, D):\n",
    "    PA_G = [1]\n",
    "    OV_G = 0\n",
    "\n",
    "    while(18 not in PA_G):\n",
    "        current_node = PA_G[-1]\n",
    "        adjacent_nodes = A[current_node]\n",
    "        times = {}\n",
    "        for (node, arc_time) in adjacent_nodes:\n",
    "            times[arc_time + D[node]] = node\n",
    "        min_total_time = min(times.keys())\n",
    "        next_node = times[min_total_time]\n",
    "        OV_G += min_total_time\n",
    "        PA_G.append(next_node)\n",
    "        \n",
    "    print(\"Feasible Solution for Greedy Algorithm\")\n",
    "    print(f'Drone Path: {PA_G}')\n",
    "    print(f'Objective value: {OV_G}\\n')\n",
    "    annealing_algo(PA_G, OV_G, 500, A, D)\n",
    "    \n",
    "\n",
    "\n",
    "#RANDOM ALGORITHM\n",
    "def random_algo(A, D, num_rand_iters):\n",
    "    min_OV = 10**6\n",
    "    best_path = []\n",
    "\n",
    "    for i in range(num_rand_iters):\n",
    "        PA = [1]\n",
    "        OV = 0\n",
    "\n",
    "        while(18 not in PA):\n",
    "            current_node = PA[-1]\n",
    "            adjacent_nodes = A[current_node]\n",
    "            next_node = random.choice(adjacent_nodes)\n",
    "            OV += next_node[1] + D[next_node[0]]\n",
    "            PA.append(next_node[0])\n",
    "        # uncomment next line to see results of each iteration\n",
    "        # print(f'iteration {i+1}: (obj val: {OV}) {PA}')\n",
    "        if OV < min_OV:\n",
    "            min_OV = OV\n",
    "            best_path = PA\n",
    "\n",
    "    print(\"Feasible Solution for Random Algorithm\")\n",
    "    print(f'Number of Random Iterations: {num_rand_iters}')\n",
    "    print(f'Drone Path: {best_path}')\n",
    "    print(f'Objective value: {min_OV}')\n",
    "    annealing_algo(PA, OV, num_rand_iters, A, D)\n",
    "\n",
    "#Imporvement Annealing\n",
    "def annealing_algo(PA, Zc, num_rand_iters, A, D):\n",
    "    try: \n",
    "        Tk= 0.5*Zc\n",
    "        test = PA\n",
    "        for i in range(num_rand_iters):\n",
    "            change_node = random.randint(1, len(PA)-2)\n",
    "            holder = PA[change_node]\n",
    "            previous_node = PA[change_node -1]\n",
    "            adjacent_nodes = A[previous_node]\n",
    "            next_node = random.choice(adjacent_nodes)\n",
    "            PA[change_node] = next_node[0]\n",
    "            Zn = 0\n",
    "\n",
    "            for x in range(len(PA)-1):\n",
    "                print(PA)\n",
    "                Input = A[PA[x]]\n",
    "                time_l = [item for item in Input if item[0] == PA[x+1]]\n",
    "                delay = D[PA[i+1]]\n",
    "                Zn = Zn + (time + delay)\n",
    "\n",
    "            prob = math.exp(-abs(Zn-Zc)/Tk)\n",
    "            r =random.uniform(0, 1)\n",
    "            Tk = 0.2*Tk\n",
    "            if r < prob: \n",
    "                Zc = Zn\n",
    "            else:\n",
    "                PA[change_node] = holder\n",
    "\n",
    "        print(\"Imporved Solution\")\n",
    "        print(f'Improved Drone Path: {PA}')\n",
    "        print(f'Improved Objective value: {Zc}\\n')\n",
    "    except:\n",
    "        "
   ]
  },
  {
   "cell_type": "code",
   "execution_count": 139,
   "metadata": {},
   "outputs": [
    {
     "name": "stdout",
     "output_type": "stream",
     "text": [
      "\n",
      "\n",
      "Test 1: Greedy algo and random algo return the same result\n",
      "\n",
      "Feasible Solution for Greedy Algorithm\n",
      "Drone Path: [1, 2, 4, 9, 13, 15, 18]\n",
      "Objective value: 6\n",
      "\n"
     ]
    },
    {
     "ename": "IndexError",
     "evalue": "list index out of range",
     "output_type": "error",
     "traceback": [
      "\u001b[1;31m---------------------------------------------------------------------------\u001b[0m",
      "\u001b[1;31mIndexError\u001b[0m                                Traceback (most recent call last)",
      "\u001b[1;32m<ipython-input-139-9f460126e5b5>\u001b[0m in \u001b[0;36m<module>\u001b[1;34m\u001b[0m\n\u001b[0;32m     52\u001b[0m         \u001b[0mrandom_algo\u001b[0m\u001b[1;33m(\u001b[0m\u001b[0mA\u001b[0m\u001b[1;33m,\u001b[0m \u001b[0mD\u001b[0m\u001b[1;33m,\u001b[0m \u001b[0mnum_rand_iters\u001b[0m\u001b[1;33m)\u001b[0m\u001b[1;33m\u001b[0m\u001b[1;33m\u001b[0m\u001b[0m\n\u001b[0;32m     53\u001b[0m         \u001b[0mprint\u001b[0m\u001b[1;33m(\u001b[0m\u001b[1;34m\"\\n\"\u001b[0m\u001b[1;33m)\u001b[0m\u001b[1;33m\u001b[0m\u001b[1;33m\u001b[0m\u001b[0m\n\u001b[1;32m---> 54\u001b[1;33m \u001b[0mgreedy_algo\u001b[0m\u001b[1;33m(\u001b[0m\u001b[0mA\u001b[0m\u001b[1;33m,\u001b[0m \u001b[0mD\u001b[0m\u001b[1;33m)\u001b[0m\u001b[1;33m\u001b[0m\u001b[1;33m\u001b[0m\u001b[0m\n\u001b[0m\u001b[0;32m     55\u001b[0m \u001b[0mrandom_algo\u001b[0m\u001b[1;33m(\u001b[0m\u001b[0mA\u001b[0m\u001b[1;33m,\u001b[0m \u001b[0mD\u001b[0m\u001b[1;33m,\u001b[0m \u001b[0mnum_rand_iters\u001b[0m\u001b[1;33m)\u001b[0m\u001b[1;33m\u001b[0m\u001b[1;33m\u001b[0m\u001b[0m\n",
      "\u001b[1;32m<ipython-input-122-3ace51767fff>\u001b[0m in \u001b[0;36mgreedy_algo\u001b[1;34m(A, D)\u001b[0m\n\u001b[0;32m     22\u001b[0m     \u001b[0mprint\u001b[0m\u001b[1;33m(\u001b[0m\u001b[1;34mf'Drone Path: {PA_G}'\u001b[0m\u001b[1;33m)\u001b[0m\u001b[1;33m\u001b[0m\u001b[1;33m\u001b[0m\u001b[0m\n\u001b[0;32m     23\u001b[0m     \u001b[0mprint\u001b[0m\u001b[1;33m(\u001b[0m\u001b[1;34mf'Objective value: {OV_G}\\n'\u001b[0m\u001b[1;33m)\u001b[0m\u001b[1;33m\u001b[0m\u001b[1;33m\u001b[0m\u001b[0m\n\u001b[1;32m---> 24\u001b[1;33m     \u001b[0mannealing_algo\u001b[0m\u001b[1;33m(\u001b[0m\u001b[0mPA_G\u001b[0m\u001b[1;33m,\u001b[0m \u001b[0mOV_G\u001b[0m\u001b[1;33m,\u001b[0m \u001b[1;36m500\u001b[0m\u001b[1;33m,\u001b[0m \u001b[0mA\u001b[0m\u001b[1;33m,\u001b[0m \u001b[0mD\u001b[0m\u001b[1;33m)\u001b[0m\u001b[1;33m\u001b[0m\u001b[1;33m\u001b[0m\u001b[0m\n\u001b[0m\u001b[0;32m     25\u001b[0m \u001b[1;33m\u001b[0m\u001b[0m\n\u001b[0;32m     26\u001b[0m \u001b[1;33m\u001b[0m\u001b[0m\n",
      "\u001b[1;32m<ipython-input-122-3ace51767fff>\u001b[0m in \u001b[0;36mannealing_algo\u001b[1;34m(PA, Zc, num_rand_iters, A, D)\u001b[0m\n\u001b[0;32m     69\u001b[0m             \u001b[0mInput\u001b[0m \u001b[1;33m=\u001b[0m \u001b[0mA\u001b[0m\u001b[1;33m[\u001b[0m\u001b[0mPA\u001b[0m\u001b[1;33m[\u001b[0m\u001b[0mi\u001b[0m\u001b[1;33m]\u001b[0m\u001b[1;33m]\u001b[0m\u001b[1;33m\u001b[0m\u001b[1;33m\u001b[0m\u001b[0m\n\u001b[0;32m     70\u001b[0m             \u001b[0mtime_l\u001b[0m \u001b[1;33m=\u001b[0m \u001b[1;33m[\u001b[0m\u001b[0mitem\u001b[0m \u001b[1;32mfor\u001b[0m \u001b[0mitem\u001b[0m \u001b[1;32min\u001b[0m \u001b[0mInput\u001b[0m \u001b[1;32mif\u001b[0m \u001b[0mitem\u001b[0m\u001b[1;33m[\u001b[0m\u001b[1;36m0\u001b[0m\u001b[1;33m]\u001b[0m \u001b[1;33m==\u001b[0m \u001b[0mPA\u001b[0m\u001b[1;33m[\u001b[0m\u001b[0mi\u001b[0m\u001b[1;33m+\u001b[0m\u001b[1;36m1\u001b[0m\u001b[1;33m]\u001b[0m\u001b[1;33m]\u001b[0m\u001b[1;33m\u001b[0m\u001b[1;33m\u001b[0m\u001b[0m\n\u001b[1;32m---> 71\u001b[1;33m             \u001b[0mtime\u001b[0m \u001b[1;33m=\u001b[0m \u001b[0mtime_l\u001b[0m\u001b[1;33m[\u001b[0m\u001b[1;36m0\u001b[0m\u001b[1;33m]\u001b[0m\u001b[1;33m[\u001b[0m\u001b[1;36m1\u001b[0m\u001b[1;33m]\u001b[0m\u001b[1;33m\u001b[0m\u001b[1;33m\u001b[0m\u001b[0m\n\u001b[0m\u001b[0;32m     72\u001b[0m             \u001b[0mdelay\u001b[0m \u001b[1;33m=\u001b[0m \u001b[0mD\u001b[0m\u001b[1;33m[\u001b[0m\u001b[0mPA\u001b[0m\u001b[1;33m[\u001b[0m\u001b[0mi\u001b[0m\u001b[1;33m+\u001b[0m\u001b[1;36m1\u001b[0m\u001b[1;33m]\u001b[0m\u001b[1;33m]\u001b[0m\u001b[1;33m\u001b[0m\u001b[1;33m\u001b[0m\u001b[0m\n\u001b[0;32m     73\u001b[0m             \u001b[0mZn\u001b[0m \u001b[1;33m=\u001b[0m \u001b[0mZn\u001b[0m \u001b[1;33m+\u001b[0m \u001b[1;33m(\u001b[0m\u001b[0mtime\u001b[0m \u001b[1;33m+\u001b[0m \u001b[0mdelay\u001b[0m\u001b[1;33m)\u001b[0m\u001b[1;33m\u001b[0m\u001b[1;33m\u001b[0m\u001b[0m\n",
      "\u001b[1;31mIndexError\u001b[0m: list index out of range"
     ]
    }
   ],
   "source": [
    "#for n in range(1,5):   \n",
    "test_file = f'test1.txt'\n",
    "\n",
    "arcs = [(1,2), (1,3), \n",
    "        (2,4), (2,5), (2, 6), \n",
    "        (3, 6), \n",
    "        (4, 5), (4, 9), \n",
    "        (5,8),\n",
    "        (6, 7),(6, 8),\n",
    "        (7, 8),(7, 11),\n",
    "        (8, 9),(8, 10),(8, 11),\n",
    "        (9, 12),(9, 13),\n",
    "        (10,12),\n",
    "        (11,12),(11,14),\n",
    "        (12,13),(12,14),\n",
    "        (13,15),\n",
    "        (14,16),(14,17),\n",
    "        (15,16),(15,18),\n",
    "        (16,17),(16,18),\n",
    "        (17,18)]\n",
    "\n",
    "# tij the time from node i to j\n",
    "A = {}\n",
    "D = {}\n",
    "\n",
    "for i in range(1,19):\n",
    "    A[i] = []\n",
    "\n",
    "\n",
    "test_name = None\n",
    "num_rand_iters = 500\n",
    "\n",
    "if test_file:\n",
    "    with open(test_file) as f:\n",
    "        test_name = next(f)\n",
    "        num_rand_iters = int(next(f).split(':')[-1])\n",
    "        [next(f) for _ in range(2)]\n",
    "        for i in range(31):\n",
    "            arc_data = next(f).split()\n",
    "            A[int(arc_data[0])].append((int(arc_data[-2]),int(arc_data[-1])))\n",
    "        [next(f) for _ in range(2)]\n",
    "        for _ in range(18):\n",
    "            delay_data = next(f).split()\n",
    "            D[int(delay_data[0])] = int(delay_data[-1])\n",
    "\n",
    "print('\\n\\n' + test_name)\n",
    "\n",
    "# run the third test a few times to try and find multiple optimal results\n",
    "if n == 3:\n",
    "    for _ in range(2):\n",
    "        greedy_algo(A, D)\n",
    "        random_algo(A, D, num_rand_iters)\n",
    "        print(\"\\n\")\n",
    "greedy_algo(A, D)\n",
    "random_algo(A, D, num_rand_iters)\n"
   ]
  },
  {
   "cell_type": "code",
   "execution_count": 140,
   "metadata": {},
   "outputs": [
    {
     "name": "stdout",
     "output_type": "stream",
     "text": [
      "1\n",
      "-1\n",
      "1\n",
      "[123344, 2, 3, 4]\n",
      "[1, 2, 3, 4]\n"
     ]
    }
   ],
   "source": [
    "Input = A[2]\n",
    " \n",
    "# Find an element in list of tuples.\n",
    "Output = [item for item in Input\n",
    "          if item[0] == 4][0][1]\n",
    "print(Output)\n",
    "\n",
    "print(-abs(2-3))\n",
    "\n",
    "pa = [1,2,3,4]\n",
    "holder = pa[0]\n",
    "print (holder)\n",
    "pa[0] = 123344\n",
    "print(pa)\n",
    "pa[0] = holder\n",
    "print(pa)"
   ]
  },
  {
   "cell_type": "code",
   "execution_count": null,
   "metadata": {},
   "outputs": [],
   "source": []
  },
  {
   "cell_type": "code",
   "execution_count": null,
   "metadata": {},
   "outputs": [],
   "source": []
  },
  {
   "cell_type": "code",
   "execution_count": null,
   "metadata": {},
   "outputs": [],
   "source": []
  }
 ],
 "metadata": {
  "kernelspec": {
   "display_name": "Python 3",
   "language": "python",
   "name": "python3"
  },
  "language_info": {
   "codemirror_mode": {
    "name": "ipython",
    "version": 3
   },
   "file_extension": ".py",
   "mimetype": "text/x-python",
   "name": "python",
   "nbconvert_exporter": "python",
   "pygments_lexer": "ipython3",
   "version": "3.7.1"
  }
 },
 "nbformat": 4,
 "nbformat_minor": 4
}
