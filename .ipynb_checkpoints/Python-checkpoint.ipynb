{
 "cells": [
  {
   "cell_type": "markdown",
   "metadata": {},
   "source": [
    "#### Step 1: Import gurobipy module"
   ]
  },
  {
   "cell_type": "code",
   "execution_count": 74,
   "metadata": {},
   "outputs": [],
   "source": [
    "import gurobipy as gp\n",
    "from gurobipy import GRB"
   ]
  },
  {
   "cell_type": "markdown",
   "metadata": {},
   "source": [
    "#### Step 2: Define your model"
   ]
  },
  {
   "cell_type": "code",
   "execution_count": 75,
   "metadata": {},
   "outputs": [],
   "source": [
    "m = gp.Model()"
   ]
  },
  {
   "cell_type": "markdown",
   "metadata": {},
   "source": [
    "#### Step 4: Define your parameters"
   ]
  },
  {
   "cell_type": "code",
   "execution_count": 76,
   "metadata": {},
   "outputs": [
    {
     "name": "stdout",
     "output_type": "stream",
     "text": [
      "{(1, 2): 2, (1, 3): 4, (2, 1): 2, (2, 4): 5, (2, 5): 1, (2, 6): 2, (3, 1): 4, (3, 6): 4, (4, 2): 5, (4, 5): 4, (4, 9): 4, (5, 2): 1, (5, 4): 4, (5, 8): 3, (6, 3): 4, (6, 2): 2, (6, 7): 1, (6, 8): 4, (7, 6): 1, (7, 8): 4, (7, 11): 3, (8, 5): 3, (8, 6): 4, (8, 7): 4, (8, 9): 5, (8, 10): 4, (8, 11): 4, (9, 4): 4, (9, 8): 5, (9, 12): 2, (9, 13): 1, (10, 8): 4, (10, 12): 3, (11, 7): 3, (11, 8): 4, (11, 12): 3, (11, 14): 4, (12, 9): 2, (12, 19): 2, (12, 11): 3, (12, 13): 5, (12, 14): 4, (13, 9): 1, (13, 12): 5, (13, 15): 3, (14, 11): 4, (14, 12): 4, (14, 16): 3, (14, 17): 5, (15, 13): 3, (15, 16): 1, (15, 18): 2, (16, 14): 3, (16, 15): 1, (16, 17): 5, (16, 18): 5, (17, 14): 5, (17, 16): 5, (17, 18): 4, (18, 15): 2, (18, 16): 5, (18, 17): 4}\n",
      "17\n",
      "[0, 2, 1, 2, 1, 1, 0, 1, 1, 0, 0, 2, 2, 1, 0, 1, 0, 0]\n"
     ]
    }
   ],
   "source": [
    "import random\n",
    "import math\n",
    "#maximum battery life\n",
    "T = random.randrange(20,30)\n",
    "\n",
    "#Number of nodes in the network\n",
    "N = 18\n",
    "\n",
    "#\n",
    "D = random.randrange(2,19)\n",
    "\n",
    "#cost\n",
    "c = random.randrange(3,5)\n",
    "\n",
    "#penalty cost increase\n",
    "p = random.uniform(1.5, 2.0)\n",
    "\n",
    "#discount time limit\n",
    "H = random.randrange(20,30)\n",
    "\n",
    "#Big M\n",
    "M = 10^6\n",
    "\n",
    "t = {}\n",
    "\n",
    "#tij time between nodes\n",
    "arcs = [(1,2), (1,3), \n",
    "        (2, 1), (2,4), (2,5), (2, 6), \n",
    "        (3, 1), (3, 6), \n",
    "        (4, 2), (4, 5), (4, 9), \n",
    "        (5, 2), (5,4), (5,8), \n",
    "        (6,3),(6,2),(6, 7),(6, 8),\n",
    "        (7, 6),(7, 8),(7, 11),\n",
    "        (8, 5),(8, 6),(8, 7),(8, 9),(8, 10),(8, 11),\n",
    "        (9, 4),(9, 8),(9, 12),(9, 13),\n",
    "        (10, 8),(10,12),\n",
    "        (11,7),(11,8),(11,12),(11,14),\n",
    "        (12,9),(12,19),(12,11),(12,13),(12,14),\n",
    "        (13,9),(13,12),(13,15),\n",
    "        (14,11),(14,12),(14,16),(14,17),\n",
    "        (15,13),(15,16),(15,18),\n",
    "        (16,14),(16,15),(16,17),(16,18),\n",
    "        (17,14),(17,16),(17,18),\n",
    "        (18,15),(18,16),(18,17)]\n",
    "\n",
    "for link in arcs:\n",
    "    i = link[0]\n",
    "    j = link[1]\n",
    "    if (j,i) in t:\n",
    "        t[i,j] = t[j,i]\n",
    "    else:\n",
    "        t[i,j] = random.randrange(1,6)  \n",
    "\n",
    "print(t)\n",
    "print(D)\n",
    "#dj the delay at each node\n",
    "d = []\n",
    "for i in range(N):\n",
    "    number = random.randrange(0,3)  \n",
    "    d.append(number)\n",
    "d[D - 1] = 0\n",
    "d[0] = 0\n",
    "\n",
    "print(d)\n",
    "\n",
    "\n"
   ]
  },
  {
   "cell_type": "markdown",
   "metadata": {},
   "source": [
    "#### Step 3: Define your sets"
   ]
  },
  {
   "cell_type": "code",
   "execution_count": 77,
   "metadata": {},
   "outputs": [],
   "source": [
    "#number of Nodes\n",
    "S = N"
   ]
  },
  {
   "cell_type": "markdown",
   "metadata": {},
   "source": [
    "#### Step 5: Define your decision variables"
   ]
  },
  {
   "cell_type": "code",
   "execution_count": 78,
   "metadata": {},
   "outputs": [],
   "source": [
    "# objective variables\n",
    "tplus = m.addVar(vtype = GRB.INTEGER, lb = 0.0, obj= 2, name = \"t+\")\n",
    "cplus = m.addVar(vtype = GRB.INTEGER, lb = 0.0, obj = 5, name = \"c+\")\n",
    "\n",
    "# normal variables\n",
    "tminus = m.addVar(vtype =GRB.INTEGER, lb = 0.0, name = \"t-\")\n",
    "cminus = m.addVar(vtype = GRB.INTEGER, lb = 0.0, name = \"c-\")\n",
    "\n",
    "x = {}\n",
    "for i in range(S):\n",
    "    for j in range(S):\n",
    "        if (i, j) in t:\n",
    "            x[i,j] = m.addVar(vtype=GRB.BINARY, lb=0.0, name=\"x_\"+str(i)+str(j))\n",
    "\n",
    "R = m.addVar(vtype=GRB.BINARY)\n",
    "\n",
    "C = m.addVar(vtype = GRB.INTEGER, lb = 0.0)\n",
    "\n",
    "Y = m.addVar(vtype = GRB.INTEGER, lb = 0.0)\n"
   ]
  },
  {
   "cell_type": "markdown",
   "metadata": {},
   "source": [
    "#### Step 6: Set your objective function"
   ]
  },
  {
   "cell_type": "code",
   "execution_count": 79,
   "metadata": {},
   "outputs": [],
   "source": [
    "m.modelSense = GRB.MINIMIZE"
   ]
  },
  {
   "cell_type": "markdown",
   "metadata": {},
   "source": [
    "#### Step 6: Add your constraints"
   ]
  },
  {
   "cell_type": "code",
   "execution_count": 81,
   "metadata": {},
   "outputs": [],
   "source": [
    "# m.addConstrs((sum(x[i,j] for j in range(J)) <= B[i]*y[i] for i in range(I))) \n",
    "\n",
    "m.addConstr(Y == (sum(x[i,j] * (t[i,j] + d[j - 1]) for i in range(S+1) for j in range(S+1) if (i,j) in x) and i != j)) #1\n",
    "\n",
    "m.addConstr(M*R >= Y-H) #2\n",
    "\n",
    "m.addQConstr(C == ((1-R)*c + R*c*p*(Y-H))) #3\n",
    "\n",
    "m.addConstr((C - (cplus + cminus)) == 10) #4\n",
    "\n",
    "m.addConstr((sum(x[1,j] for j in range(2,S + 1) if (1,j) in x)) == 1) #5\n",
    "\n",
    "m.addConstr((sum(x[i,D] for i in range(S + 1) if (i,D) in x) and i != D) == 1) #6\n",
    "\n",
    "for k in range(S + 1):\n",
    "    m.addConstr((sum(x[i,k] for i in range(S + 1) if (i,k) in x and i != k)) == (sum(x[k,j] for j in range(S + 1) if (k,j) in x and j != k))) #7\n",
    "\n",
    "m.addConstr((Y - (tplus + tminus)) == 20) #8\n",
    "\n",
    "m.update()\n"
   ]
  },
  {
   "cell_type": "markdown",
   "metadata": {},
   "source": [
    "#### Step 7: Solve the model"
   ]
  },
  {
   "cell_type": "code",
   "execution_count": 83,
   "metadata": {},
   "outputs": [
    {
     "name": "stdout",
     "output_type": "stream",
     "text": [
      "Gurobi Optimizer version 9.5.0 build v9.5.0rc5 (mac64[x86])\n",
      "Thread count: 2 physical cores, 4 logical processors, using up to 4 threads\n",
      "Optimize a model with 50 rows, 62 columns and 242 nonzeros\n",
      "Model fingerprint: 0x17008352\n",
      "Model has 2 quadratic constraints\n",
      "Variable types: 0 continuous, 62 integer (56 binary)\n",
      "Coefficient statistics:\n",
      "  Matrix range     [1e+00, 1e+01]\n",
      "  QMatrix range    [7e+00, 7e+00]\n",
      "  QLMatrix range   [1e+00, 2e+02]\n",
      "  Objective range  [2e+00, 5e+00]\n",
      "  Bounds range     [1e+00, 1e+00]\n",
      "  RHS range        [1e+00, 3e+01]\n",
      "  QRHS range       [4e+00, 4e+00]\n",
      "Presolve time: 0.00s\n",
      "\n",
      "Explored 0 nodes (0 simplex iterations) in 0.08 seconds (0.00 work units)\n",
      "Thread count was 1 (of 4 available processors)\n",
      "\n",
      "Solution count 0\n",
      "\n",
      "Model is infeasible\n",
      "Best objective -, best bound -, gap -\n"
     ]
    }
   ],
   "source": [
    "#m.Params.TimeLimit=300 #(seconds) optional: sets a time limit for optimization only if you need to prematurely stop the solution procedure\n",
    "m.optimize()"
   ]
  },
  {
   "cell_type": "markdown",
   "metadata": {},
   "source": [
    "#### Step 8: Print variable values  (The Messy Way)"
   ]
  },
  {
   "cell_type": "code",
   "execution_count": 84,
   "metadata": {
    "scrolled": true
   },
   "outputs": [
    {
     "ename": "AttributeError",
     "evalue": "Unable to retrieve attribute 'x'",
     "output_type": "error",
     "traceback": [
      "\u001b[0;31m---------------------------------------------------------------------------\u001b[0m",
      "\u001b[0;31mAttributeError\u001b[0m                            Traceback (most recent call last)",
      "\u001b[0;32m<ipython-input-84-febf0fac3c92>\u001b[0m in \u001b[0;36m<module>\u001b[0;34m\u001b[0m\n\u001b[1;32m      1\u001b[0m \u001b[0;32mfor\u001b[0m \u001b[0mmyVars\u001b[0m \u001b[0;32min\u001b[0m \u001b[0mm\u001b[0m\u001b[0;34m.\u001b[0m\u001b[0mgetVars\u001b[0m\u001b[0;34m(\u001b[0m\u001b[0;34m)\u001b[0m\u001b[0;34m:\u001b[0m\u001b[0;34m\u001b[0m\u001b[0;34m\u001b[0m\u001b[0m\n\u001b[0;32m----> 2\u001b[0;31m     \u001b[0mprint\u001b[0m\u001b[0;34m(\u001b[0m\u001b[0;34m'%s %g'\u001b[0m \u001b[0;34m%\u001b[0m \u001b[0;34m(\u001b[0m\u001b[0mmyVars\u001b[0m\u001b[0;34m.\u001b[0m\u001b[0mvarName\u001b[0m\u001b[0;34m,\u001b[0m \u001b[0mmyVars\u001b[0m\u001b[0;34m.\u001b[0m\u001b[0mx\u001b[0m\u001b[0;34m)\u001b[0m\u001b[0;34m)\u001b[0m\u001b[0;34m\u001b[0m\u001b[0;34m\u001b[0m\u001b[0m\n\u001b[0m\u001b[1;32m      3\u001b[0m \u001b[0;34m\u001b[0m\u001b[0m\n\u001b[1;32m      4\u001b[0m \u001b[0;31m#https://docs.python.org/2.4/lib/typesseq-strings.html\u001b[0m\u001b[0;34m\u001b[0m\u001b[0;34m\u001b[0m\u001b[0;34m\u001b[0m\u001b[0m\n",
      "\u001b[0;32msrc/gurobipy/var.pxi\u001b[0m in \u001b[0;36mgurobipy.Var.__getattr__\u001b[0;34m()\u001b[0m\n",
      "\u001b[0;32msrc/gurobipy/var.pxi\u001b[0m in \u001b[0;36mgurobipy.Var.getAttr\u001b[0;34m()\u001b[0m\n",
      "\u001b[0;32msrc/gurobipy/attrutil.pxi\u001b[0m in \u001b[0;36mgurobipy.__getattr\u001b[0;34m()\u001b[0m\n",
      "\u001b[0;31mAttributeError\u001b[0m: Unable to retrieve attribute 'x'"
     ]
    }
   ],
   "source": [
    "for myVars in m.getVars():\n",
    "    print('%s %g' % (myVars.varName, myVars.x))\n",
    "    \n",
    "#https://docs.python.org/2.4/lib/typesseq-strings.html"
   ]
  },
  {
   "cell_type": "markdown",
   "metadata": {},
   "source": [
    "#### Step 8 Alternate: Print the solution (The Easy To Read Way)"
   ]
  },
  {
   "cell_type": "code",
   "execution_count": 85,
   "metadata": {},
   "outputs": [
    {
     "ename": "AttributeError",
     "evalue": "Unable to retrieve attribute 'objVal'",
     "output_type": "error",
     "traceback": [
      "\u001b[0;31m---------------------------------------------------------------------------\u001b[0m",
      "\u001b[0;31mAttributeError\u001b[0m                            Traceback (most recent call last)",
      "\u001b[0;32m<ipython-input-85-db5b9781f87a>\u001b[0m in \u001b[0;36m<module>\u001b[0;34m\u001b[0m\n\u001b[0;32m----> 1\u001b[0;31m \u001b[0mprint\u001b[0m\u001b[0;34m(\u001b[0m\u001b[0;34m'\\nTOTAL COSTS: %g'\u001b[0m \u001b[0;34m%\u001b[0m \u001b[0mm\u001b[0m\u001b[0;34m.\u001b[0m\u001b[0mobjVal\u001b[0m\u001b[0;34m)\u001b[0m \u001b[0;31m#gets the objective function value\u001b[0m\u001b[0;34m\u001b[0m\u001b[0;34m\u001b[0m\u001b[0m\n\u001b[0m\u001b[1;32m      2\u001b[0m \u001b[0mprint\u001b[0m\u001b[0;34m(\u001b[0m\u001b[0;34m'SOLUTION:'\u001b[0m\u001b[0;34m)\u001b[0m\u001b[0;34m\u001b[0m\u001b[0;34m\u001b[0m\u001b[0m\n\u001b[1;32m      3\u001b[0m \u001b[0;32mfor\u001b[0m \u001b[0mi\u001b[0m \u001b[0;32min\u001b[0m \u001b[0mrange\u001b[0m\u001b[0;34m(\u001b[0m\u001b[0mI\u001b[0m\u001b[0;34m)\u001b[0m\u001b[0;34m:\u001b[0m\u001b[0;34m\u001b[0m\u001b[0;34m\u001b[0m\u001b[0m\n\u001b[1;32m      4\u001b[0m     \u001b[0;32mif\u001b[0m \u001b[0my\u001b[0m\u001b[0;34m[\u001b[0m\u001b[0mi\u001b[0m\u001b[0;34m]\u001b[0m\u001b[0;34m.\u001b[0m\u001b[0mx\u001b[0m \u001b[0;34m>\u001b[0m \u001b[0;36m0.99\u001b[0m\u001b[0;34m:\u001b[0m   \u001b[0;31m#chooses the binary y variables which get the value of 1\u001b[0m\u001b[0;34m\u001b[0m\u001b[0;34m\u001b[0m\u001b[0m\n\u001b[1;32m      5\u001b[0m         \u001b[0mprint\u001b[0m\u001b[0;34m(\u001b[0m\u001b[0;34m'Facility %s open'\u001b[0m \u001b[0;34m%\u001b[0m \u001b[0mi\u001b[0m\u001b[0;34m)\u001b[0m\u001b[0;34m\u001b[0m\u001b[0;34m\u001b[0m\u001b[0m\n",
      "\u001b[0;32msrc/gurobipy/model.pxi\u001b[0m in \u001b[0;36mgurobipy.Model.__getattr__\u001b[0;34m()\u001b[0m\n",
      "\u001b[0;32msrc/gurobipy/model.pxi\u001b[0m in \u001b[0;36mgurobipy.Model.getAttr\u001b[0;34m()\u001b[0m\n",
      "\u001b[0;32msrc/gurobipy/attrutil.pxi\u001b[0m in \u001b[0;36mgurobipy.__getattr\u001b[0;34m()\u001b[0m\n",
      "\u001b[0;31mAttributeError\u001b[0m: Unable to retrieve attribute 'objVal'"
     ]
    }
   ],
   "source": [
    "print('\\nTOTAL COSTS: %g' % m.objVal) #gets the objective function value\n",
    "print('SOLUTION:')\n",
    "for i in range(I):\n",
    "    if y[i].x > 0.99:   #chooses the binary y variables which get the value of 1\n",
    "        print('Facility %s open' % i)\n",
    "        for j in range(J):\n",
    "            if x[i, j].x > 0:  #chooses the continuous x variables which get a nonzero value\n",
    "                print('  ships %g thousand units to customer %s' %\n",
    "                      (x[i,j].x, j))\n",
    "    else:\n",
    "        print('Facility %s closed!' % i)"
   ]
  },
  {
   "cell_type": "markdown",
   "metadata": {},
   "source": [
    "#### Optional Step: Exporting the LP File for Debugging\n",
    "Do you think that something is wrong with your model? Export it to an LP file and check if it is in the desired shape."
   ]
  },
  {
   "cell_type": "code",
   "execution_count": 86,
   "metadata": {},
   "outputs": [
    {
     "name": "stdout",
     "output_type": "stream",
     "text": [
      "Warning: Q constraint 0 doesn't have a name\n"
     ]
    }
   ],
   "source": [
    "m.write(\"checkModel.lp\")"
   ]
  }
 ],
 "metadata": {
  "kernelspec": {
   "display_name": "Python 3",
   "language": "python",
   "name": "python3"
  },
  "language_info": {
   "codemirror_mode": {
    "name": "ipython",
    "version": 3
   },
   "file_extension": ".py",
   "mimetype": "text/x-python",
   "name": "python",
   "nbconvert_exporter": "python",
   "pygments_lexer": "ipython3",
   "version": "3.8.8"
  }
 },
 "nbformat": 4,
 "nbformat_minor": 4
}
