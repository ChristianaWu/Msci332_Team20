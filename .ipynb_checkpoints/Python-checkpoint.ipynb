{
 "cells": [
  {
   "cell_type": "markdown",
   "metadata": {},
   "source": [
    "#### Step 1: Import gurobipy module"
   ]
  },
  {
   "cell_type": "code",
   "execution_count": 1,
   "metadata": {},
   "outputs": [],
   "source": [
    "import gurobipy as gp\n",
    "from gurobipy import GRB"
   ]
  },
  {
   "cell_type": "markdown",
   "metadata": {},
   "source": [
    "#### Step 2: Define your model"
   ]
  },
  {
   "cell_type": "code",
   "execution_count": 2,
   "metadata": {},
   "outputs": [
    {
     "name": "stdout",
     "output_type": "stream",
     "text": [
      "Set parameter Username\n",
      "Academic license - for non-commercial use only - expires 2022-01-08\n"
     ]
    }
   ],
   "source": [
    "m = gp.Model()"
   ]
  },
  {
   "cell_type": "markdown",
   "metadata": {},
   "source": [
    "#### Step 4: Define your parameters"
   ]
  },
  {
   "cell_type": "code",
   "execution_count": 3,
   "metadata": {},
   "outputs": [
    {
     "name": "stdout",
     "output_type": "stream",
     "text": [
      "{(1, 2): 5, (1, 3): 6, (2, 4): 8, (2, 5): 8, (2, 6): 7, (3, 6): 6, (4, 5): 5, (4, 9): 9, (5, 8): 8, (6, 7): 7, (6, 8): 5, (7, 8): 6, (7, 11): 7, (8, 9): 5, (8, 10): 8, (8, 11): 6, (9, 12): 9, (9, 13): 7, (10, 12): 8, (11, 12): 8, (11, 14): 7, (12, 13): 7, (12, 14): 8, (13, 15): 6, (14, 16): 7, (14, 17): 7, (15, 16): 6, (15, 18): 8, (16, 17): 6, (16, 18): 8, (17, 18): 9}\n",
      "18\n",
      "[0, 0, 2, 0, 0, 0, 0, 1, 2, 1, 0, 1, 2, 2, 1, 1, 1, 0]\n"
     ]
    }
   ],
   "source": [
    "import random\n",
    "import math\n",
    "\n",
    "random.seed(10)\n",
    "#Number of nodes in the network\n",
    "N = 18\n",
    "\n",
    "#\n",
    "D = 18\n",
    "\n",
    "#cost\n",
    "c = random.randrange(3,5)\n",
    "\n",
    "#penalty cost increase\n",
    "p = random.uniform(1.5, 2.0)\n",
    "\n",
    "#discount time limit\n",
    "H = random.randrange(20,30)\n",
    "\n",
    "#Big M\n",
    "M = 10**15\n",
    "\n",
    "t = {}\n",
    "\n",
    "#tij time between nodes\n",
    "arcs = [(1,2), (1,3), \n",
    "        (2,4), (2,5), (2, 6), \n",
    "        (3, 6), \n",
    "        (4, 5), (4, 9), \n",
    "        (5,8),\n",
    "        (6, 7),(6, 8),\n",
    "        (7, 8),(7, 11),\n",
    "        (8, 9),(8, 10),(8, 11),\n",
    "        (9, 12),(9, 13),\n",
    "        (10,12),\n",
    "        (11,12),(11,14),\n",
    "        (12,13),(12,14),\n",
    "        (13,15),(14,16),\n",
    "        (14,17),\n",
    "        (15,16),(15,18),\n",
    "        (16,17),(16,18),\n",
    "        (17,18)]\n",
    "\n",
    "for i,j in arcs:\n",
    "    t[i,j] = random.randrange(5,10)  \n",
    "\n",
    "print(t)\n",
    "print(D)\n",
    "#dj the delay at each node\n",
    "d = []\n",
    "for i in range(N):\n",
    "    number = random.randrange(0,3)  \n",
    "    d.append(number)\n",
    "d[D - 1] = 0\n",
    "d[0] = 0\n",
    "\n",
    "print(d)\n",
    "\n",
    "\n"
   ]
  },
  {
   "cell_type": "markdown",
   "metadata": {},
   "source": [
    "#### Step 3: Define your sets"
   ]
  },
  {
   "cell_type": "code",
   "execution_count": 4,
   "metadata": {},
   "outputs": [],
   "source": [
    "#number of Nodes\n",
    "S = N"
   ]
  },
  {
   "cell_type": "markdown",
   "metadata": {},
   "source": [
    "#### Step 5: Define your decision variables"
   ]
  },
  {
   "cell_type": "code",
   "execution_count": 5,
   "metadata": {},
   "outputs": [],
   "source": [
    "# objective variables\n",
    "tplus = m.addVar(vtype = GRB.CONTINUOUS, lb = 0.0, obj= 2, name = \"t+\")\n",
    "cplus = m.addVar(vtype = GRB.CONTINUOUS, lb = 0.0, obj = 5, name = \"c+\")\n",
    "\n",
    "# normal variables\n",
    "tminus = m.addVar(vtype =GRB.CONTINUOUS, lb = 0.0, name = \"t-\")\n",
    "cminus = m.addVar(vtype = GRB.CONTINUOUS, lb = 0.0, name = \"c-\")\n",
    "\n",
    "x = {}\n",
    "for i in range(S + 1):\n",
    "    for j in range(S + 1):\n",
    "        if (i, j) in t:\n",
    "            x[i,j] = m.addVar(vtype=GRB.BINARY, lb=0.0, name=\"x_\"+str(i)+str(j))\n",
    "\n",
    "R = m.addVar(vtype=GRB.BINARY)\n",
    "\n",
    "C = m.addVar(vtype = GRB.INTEGER, lb = 0.0)\n",
    "\n",
    "Y = m.addVar(vtype = GRB.INTEGER, lb = 0.0)\n"
   ]
  },
  {
   "cell_type": "markdown",
   "metadata": {},
   "source": [
    "#### Step 6: Set your objective function"
   ]
  },
  {
   "cell_type": "code",
   "execution_count": 6,
   "metadata": {},
   "outputs": [],
   "source": [
    "m.modelSense = GRB.MINIMIZE"
   ]
  },
  {
   "cell_type": "markdown",
   "metadata": {},
   "source": [
    "#### Step 6: Add your constraints"
   ]
  },
  {
   "cell_type": "code",
   "execution_count": 7,
   "metadata": {},
   "outputs": [],
   "source": [
    "m.addConstr(Y == (sum((x[i,j] * (t[i,j] + d[j - 1])) for i,j in arcs ))) #1\n",
    "\n",
    "m.addConstr(M*R >= Y-H) #2 \n",
    "\n",
    "m.addConstr(C >= (c + R*c*p*(Y-H))) #3\n",
    "\n",
    "m.addConstr((C - (cplus - cminus)) == 10) #4 \n",
    "\n",
    "m.addConstr(sum(x[1,j] for j in range(2,S + 1) if (1,j) in arcs) == 1) #5\n",
    "\n",
    "m.addConstr((sum(x[i,D] for i in range(S) if ((i,D) in x and i != D))) == 1) #6\n",
    "\n",
    "for k in range(2, S):\n",
    "    m.addConstr((sum(x[i,k] for i in range(S + 1) if (i,k) in x and i != k)) == (sum(x[k,j] for j in range(S + 1) if (k,j) in x and j != k))) #7\n",
    "\n",
    "m.addConstr((Y - (tplus - tminus)) == 20) #8\n",
    "\n",
    "\n",
    "m.update()"
   ]
  },
  {
   "cell_type": "markdown",
   "metadata": {},
   "source": [
    "#### Step 7: Solve the model"
   ]
  },
  {
   "cell_type": "code",
   "execution_count": 8,
   "metadata": {},
   "outputs": [
    {
     "name": "stdout",
     "output_type": "stream",
     "text": [
      "Gurobi Optimizer version 9.5.0 build v9.5.0rc5 (mac64[x86])\n",
      "Thread count: 2 physical cores, 4 logical processors, using up to 4 threads\n",
      "Optimize a model with 22 rows, 38 columns and 102 nonzeros\n",
      "Model fingerprint: 0xf9ed695a\n",
      "Model has 1 quadratic constraint\n",
      "Variable types: 4 continuous, 34 integer (32 binary)\n",
      "Coefficient statistics:\n",
      "  Matrix range     [1e+00, 1e+15]\n",
      "  QMatrix range    [5e+00, 5e+00]\n",
      "  QLMatrix range   [1e+00, 1e+02]\n",
      "  Objective range  [2e+00, 5e+00]\n",
      "  Bounds range     [1e+00, 1e+00]\n",
      "  RHS range        [1e+00, 3e+01]\n",
      "  QRHS range       [3e+00, 3e+00]\n",
      "Warning: Model contains large matrix coefficient range\n",
      "         Consider reformulating model or setting NumericFocus parameter\n",
      "         to avoid numerical issues.\n",
      "Presolve removed 6 rows and 9 columns\n",
      "Presolve time: 0.00s\n",
      "Presolved: 16 rows, 29 columns, 74 nonzeros\n",
      "Variable types: 0 continuous, 29 integer (26 binary)\n",
      "Found heuristic solution: objective 511.0000000\n",
      "\n",
      "Root relaxation: objective 5.096167e+02, 16 iterations, 0.00 seconds (0.00 work units)\n",
      "\n",
      "    Nodes    |    Current Node    |     Objective Bounds      |     Work\n",
      " Expl Unexpl |  Obj  Depth IntInf | Incumbent    BestBd   Gap | It/Node Time\n",
      "\n",
      "     0     0 infeasible    0       511.00000  511.00000  0.00%     -    0s\n",
      "\n",
      "Explored 1 nodes (16 simplex iterations) in 0.13 seconds (0.00 work units)\n",
      "Thread count was 4 (of 4 available processors)\n",
      "\n",
      "Solution count 1: 511 \n",
      "\n",
      "Optimal solution found (tolerance 1.00e-04)\n",
      "Best objective 5.110000000000e+02, best bound 5.110000000000e+02, gap 0.0000%\n",
      "<gurobi.Var C37 (value 48.0)>\n",
      "<gurobi.Var C35 (value 1.0)>\n",
      "The final solution is:\n",
      "1 2 1.0\n",
      "5\n",
      "0\n",
      "2 4 1.0\n",
      "8\n",
      "0\n",
      "4 9 1.0\n",
      "9\n",
      "2\n",
      "9 13 1.0\n",
      "7\n",
      "2\n",
      "13 15 1.0\n",
      "6\n",
      "1\n",
      "15 18 1.0\n",
      "8\n",
      "0\n"
     ]
    }
   ],
   "source": [
    "#m.Params.TimeLimit=300 #(seconds) optional: sets a time limit for optimization only if you need to prematurely stop the solution procedure\n",
    "m.optimize()\n",
    "\n",
    "print(Y)\n",
    "print(R)\n",
    "if m.status == GRB.Status.OPTIMAL:\n",
    "    print('The final solution is:')\n",
    "    for i,j in arcs:\n",
    "        if(x[i,j].x > 0):\n",
    "            print(i, j, x[i,j].x)\n",
    "            print(t[i,j])\n",
    "            print(d[j-1])\n",
    "\n",
    "\n"
   ]
  },
  {
   "cell_type": "markdown",
   "metadata": {},
   "source": [
    "#### Step 8: Print variable values  (The Messy Way)"
   ]
  },
  {
   "cell_type": "code",
   "execution_count": 9,
   "metadata": {
    "scrolled": true
   },
   "outputs": [
    {
     "name": "stdout",
     "output_type": "stream",
     "text": [
      "t+ 28\n",
      "c+ 91\n",
      "t- 0\n",
      "c- -0\n",
      "x_12 1\n",
      "x_13 0\n",
      "x_24 1\n",
      "x_25 -0\n",
      "x_26 -0\n",
      "x_36 -0\n",
      "x_45 -0\n",
      "x_49 1\n",
      "x_58 -0\n",
      "x_67 -0\n",
      "x_68 -0\n",
      "x_78 -0\n",
      "x_711 -0\n",
      "x_89 -0\n",
      "x_810 -0\n",
      "x_811 -0\n",
      "x_912 -0\n",
      "x_913 1\n",
      "x_1012 0\n",
      "x_1112 -0\n",
      "x_1114 -0\n",
      "x_1213 -0\n",
      "x_1214 -0\n",
      "x_1315 1\n",
      "x_1416 -0\n",
      "x_1417 -0\n",
      "x_1516 -0\n",
      "x_1518 1\n",
      "x_1617 -0\n",
      "x_1618 -0\n",
      "x_1718 0\n",
      "C35 1\n",
      "C36 101\n",
      "C37 48\n"
     ]
    }
   ],
   "source": [
    "for myVars in m.getVars():\n",
    "    print('%s %g' % (myVars.varName, myVars.x))\n",
    "    \n",
    "#https://docs.python.org/2.4/lib/typesseq-strings.html"
   ]
  },
  {
   "cell_type": "markdown",
   "metadata": {},
   "source": [
    "#### Step 8 Alternate: Print the solution (The Easy To Read Way)"
   ]
  },
  {
   "cell_type": "code",
   "execution_count": 10,
   "metadata": {},
   "outputs": [
    {
     "name": "stdout",
     "output_type": "stream",
     "text": [
      "\n",
      "TOTAL COSTS: 511\n",
      "SOLUTION:\n"
     ]
    },
    {
     "ename": "NameError",
     "evalue": "name 'I' is not defined",
     "output_type": "error",
     "traceback": [
      "\u001b[0;31m---------------------------------------------------------------------------\u001b[0m",
      "\u001b[0;31mNameError\u001b[0m                                 Traceback (most recent call last)",
      "\u001b[0;32m<ipython-input-10-db5b9781f87a>\u001b[0m in \u001b[0;36m<module>\u001b[0;34m\u001b[0m\n\u001b[1;32m      1\u001b[0m \u001b[0mprint\u001b[0m\u001b[0;34m(\u001b[0m\u001b[0;34m'\\nTOTAL COSTS: %g'\u001b[0m \u001b[0;34m%\u001b[0m \u001b[0mm\u001b[0m\u001b[0;34m.\u001b[0m\u001b[0mobjVal\u001b[0m\u001b[0;34m)\u001b[0m \u001b[0;31m#gets the objective function value\u001b[0m\u001b[0;34m\u001b[0m\u001b[0;34m\u001b[0m\u001b[0m\n\u001b[1;32m      2\u001b[0m \u001b[0mprint\u001b[0m\u001b[0;34m(\u001b[0m\u001b[0;34m'SOLUTION:'\u001b[0m\u001b[0;34m)\u001b[0m\u001b[0;34m\u001b[0m\u001b[0;34m\u001b[0m\u001b[0m\n\u001b[0;32m----> 3\u001b[0;31m \u001b[0;32mfor\u001b[0m \u001b[0mi\u001b[0m \u001b[0;32min\u001b[0m \u001b[0mrange\u001b[0m\u001b[0;34m(\u001b[0m\u001b[0mI\u001b[0m\u001b[0;34m)\u001b[0m\u001b[0;34m:\u001b[0m\u001b[0;34m\u001b[0m\u001b[0;34m\u001b[0m\u001b[0m\n\u001b[0m\u001b[1;32m      4\u001b[0m     \u001b[0;32mif\u001b[0m \u001b[0my\u001b[0m\u001b[0;34m[\u001b[0m\u001b[0mi\u001b[0m\u001b[0;34m]\u001b[0m\u001b[0;34m.\u001b[0m\u001b[0mx\u001b[0m \u001b[0;34m>\u001b[0m \u001b[0;36m0.99\u001b[0m\u001b[0;34m:\u001b[0m   \u001b[0;31m#chooses the binary y variables which get the value of 1\u001b[0m\u001b[0;34m\u001b[0m\u001b[0;34m\u001b[0m\u001b[0m\n\u001b[1;32m      5\u001b[0m         \u001b[0mprint\u001b[0m\u001b[0;34m(\u001b[0m\u001b[0;34m'Facility %s open'\u001b[0m \u001b[0;34m%\u001b[0m \u001b[0mi\u001b[0m\u001b[0;34m)\u001b[0m\u001b[0;34m\u001b[0m\u001b[0;34m\u001b[0m\u001b[0m\n",
      "\u001b[0;31mNameError\u001b[0m: name 'I' is not defined"
     ]
    }
   ],
   "source": [
    "print('\\nTOTAL COSTS: %g' % m.objVal) #gets the objective function value\n",
    "print('SOLUTION:')\n",
    "for i in range(I):\n",
    "    if y[i].x > 0.99:   #chooses the binary y variables which get the value of 1\n",
    "        print('Facility %s open' % i)\n",
    "        for j in range(J):\n",
    "            if x[i, j].x > 0:  #chooses the continuous x variables which get a nonzero value\n",
    "                print('  ships %g thousand units to customer %s' %\n",
    "                      (x[i,j].x, j))\n",
    "    else:\n",
    "        print('Facility %s closed!' % i)"
   ]
  },
  {
   "cell_type": "markdown",
   "metadata": {},
   "source": [
    "#### Optional Step: Exporting the LP File for Debugging\n",
    "Do you think that something is wrong with your model? Export it to an LP file and check if it is in the desired shape."
   ]
  },
  {
   "cell_type": "code",
   "execution_count": null,
   "metadata": {},
   "outputs": [],
   "source": [
    "m.write(\"checkModel.lp\")"
   ]
  },
  {
   "cell_type": "code",
   "execution_count": null,
   "metadata": {},
   "outputs": [],
   "source": []
  },
  {
   "cell_type": "code",
   "execution_count": null,
   "metadata": {},
   "outputs": [],
   "source": []
  }
 ],
 "metadata": {
  "kernelspec": {
   "display_name": "Python 3",
   "language": "python",
   "name": "python3"
  },
  "language_info": {
   "codemirror_mode": {
    "name": "ipython",
    "version": 3
   },
   "file_extension": ".py",
   "mimetype": "text/x-python",
   "name": "python",
   "nbconvert_exporter": "python",
   "pygments_lexer": "ipython3",
   "version": "3.8.8"
  }
 },
 "nbformat": 4,
 "nbformat_minor": 4
}
