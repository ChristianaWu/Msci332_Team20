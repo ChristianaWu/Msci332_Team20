{
 "cells": [
  {
   "cell_type": "markdown",
   "metadata": {},
   "source": [
    "## Creating and solving your first model with Gurobi\n",
    "\n",
    "### Capacitated Facility Location Problem\n",
    "\n",
    "- A company is considering opening as many as five facilities at candidate locations $i \\in I$ to serve four different customers available at locations $j \\in J$. \n",
    "\n",
    "- Opening facility $i \\in I$ incurs a fixed cost $\\$f_i$ and has a limited annual capacity $B_i$. \n",
    "\n",
    "- Each customer $j \\in J$ has an annual demand $d_j$. \n",
    "\n",
    "- The transportation cost between candidate facility $i \\in I$ and customer $j \\in J$ is $\\$c_{ij}$ per unit. \n",
    "\n",
    "- The objective is to minimize total cost (fixed + transportation) while meeting all customer demand\n",
    "\n",
    "\n",
    "\n",
    "\n"
   ]
  },
  {
   "cell_type": "markdown",
   "metadata": {},
   "source": [
    "#### Step 0: Present your mathematical model\n",
    "\n",
    "Decision Variables:\n",
    "\n",
    "$x_{ij}$: amount of product shipped from facility $i \\in I$ to customer $j \\in J$.\n",
    "\n",
    "$y_{i} = \\begin{cases}\n",
    "1 & \\mbox{if facility $i \\in I$ is open,} \\\\\n",
    "0 & \\mbox{otherwise.}\n",
    "\\end{cases}$"
   ]
  },
  {
   "cell_type": "markdown",
   "metadata": {},
   "source": [
    "$$\\begin{array}{rll}\n",
    "\\text{min} & \\displaystyle \\sum_{i=1}^5 f_i y_i + \\sum_{i=1}^5 \\sum_{j=1}^4 c_{ij} x_{ij}\\\\\n",
    "\\text{s.t.} & \\displaystyle \\sum_{j=1}^4 x_{ij} \\leq B_i y_i \\quad \\forall i\\in I\\\\\n",
    "& \\displaystyle \\sum_{i=1}^5 x_{ij} = d_j \\quad \\forall j\\in J\\\\ \n",
    "& x_{ij} \\geq 0 \\quad \\forall i\\in I, j\\in J \\\\\n",
    "& y_{i} \\in \\lbrace0,1\\rbrace \\quad \\forall i\\in I\n",
    "\\end{array}$$"
   ]
  },
  {
   "cell_type": "markdown",
   "metadata": {},
   "source": [
    "#### Step 1: Import gurobipy module"
   ]
  },
  {
   "cell_type": "code",
   "execution_count": null,
   "metadata": {},
   "outputs": [],
   "source": [
    "import gurobipy as gp\n",
    "from gurobipy import GRB"
   ]
  },
  {
   "cell_type": "markdown",
   "metadata": {},
   "source": [
    "#### Step 2: Define your model"
   ]
  },
  {
   "cell_type": "code",
   "execution_count": null,
   "metadata": {},
   "outputs": [],
   "source": [
    "m = gp.Model()"
   ]
  },
  {
   "cell_type": "markdown",
   "metadata": {},
   "source": [
    "#### Step 3: Define your sets"
   ]
  },
  {
   "cell_type": "code",
   "execution_count": null,
   "metadata": {},
   "outputs": [],
   "source": [
    "#number of plants\n",
    "I=5\n",
    "\n",
    "#number of customers\n",
    "J=4"
   ]
  },
  {
   "cell_type": "markdown",
   "metadata": {},
   "source": [
    "#### Step 4: Define your parameters"
   ]
  },
  {
   "cell_type": "code",
   "execution_count": null,
   "metadata": {},
   "outputs": [],
   "source": [
    "#Fixed cost for each plant\n",
    "f = [12000, 15000, 17000, 13000, 16000]\n",
    "\n",
    "#Facility capacity in thousands of units\n",
    "B = [20, 22, 17, 19, 18]\n",
    "\n",
    "#Customer demand in thousands of units\n",
    "d = [15, 18, 14, 20]\n",
    "\n",
    "#Transportation costs per thousand units\n",
    "c = [[4000, 2500, 1200, 2200],\n",
    "     [2000, 2600, 1800, 2600],\n",
    "     [3000, 3400, 2600, 3100],\n",
    "     [2500, 3000, 4100, 3700],\n",
    "     [4500, 4000, 3000, 3200]]"
   ]
  },
  {
   "cell_type": "markdown",
   "metadata": {},
   "source": [
    "#### Step 5: Define your decision variables"
   ]
  },
  {
   "cell_type": "code",
   "execution_count": null,
   "metadata": {},
   "outputs": [],
   "source": [
    "x={}\n",
    "for i in range(I):\n",
    "    for j in range(J):\n",
    "        x[i,j] = m.addVar(vtype=GRB.CONTINUOUS, lb=0.0, obj=c[i][j], name=\"x_\"+str(i)+str(j))\n",
    "\n",
    "y={}\n",
    "for i in range(I):\n",
    "    y[i] = m.addVar(vtype=GRB.BINARY, obj=f[i], name=\"y_\"+str(i))"
   ]
  },
  {
   "cell_type": "markdown",
   "metadata": {},
   "source": [
    "#### Step 6: Set your objective function"
   ]
  },
  {
   "cell_type": "code",
   "execution_count": null,
   "metadata": {},
   "outputs": [],
   "source": [
    "m.modelSense = GRB.MINIMIZE"
   ]
  },
  {
   "cell_type": "markdown",
   "metadata": {},
   "source": [
    "#### Step 6: Add your constraints"
   ]
  },
  {
   "cell_type": "code",
   "execution_count": null,
   "metadata": {},
   "outputs": [],
   "source": [
    "m.addConstrs((sum(x[i,j] for j in range(J)) <= B[i]*y[i] for i in range(I))) \n",
    "m.addConstrs((sum(x[i,j] for i in range(I)) == d[j] for j in range(J)))\n",
    "m.update()"
   ]
  },
  {
   "cell_type": "markdown",
   "metadata": {},
   "source": [
    "#### Step 7: Solve the model"
   ]
  },
  {
   "cell_type": "code",
   "execution_count": null,
   "metadata": {},
   "outputs": [],
   "source": [
    "#m.Params.TimeLimit=300 #(seconds) optional: sets a time limit for optimization only if you need to prematurely stop the solution procedure\n",
    "m.optimize()"
   ]
  },
  {
   "cell_type": "markdown",
   "metadata": {},
   "source": [
    "#### Step 8: Print variable values  (The Messy Way)"
   ]
  },
  {
   "cell_type": "code",
   "execution_count": null,
   "metadata": {
    "scrolled": true
   },
   "outputs": [],
   "source": [
    "for myVars in m.getVars():\n",
    "    print('%s %g' % (myVars.varName, myVars.x))\n",
    "    \n",
    "#https://docs.python.org/2.4/lib/typesseq-strings.html"
   ]
  },
  {
   "cell_type": "markdown",
   "metadata": {},
   "source": [
    "#### Step 8 Alternate: Print the solution (The Easy To Read Way)"
   ]
  },
  {
   "cell_type": "code",
   "execution_count": null,
   "metadata": {},
   "outputs": [],
   "source": [
    "print('\\nTOTAL COSTS: %g' % m.objVal) #gets the objective function value\n",
    "print('SOLUTION:')\n",
    "for i in range(I):\n",
    "    if y[i].x > 0.99:   #chooses the binary y variables which get the value of 1\n",
    "        print('Facility %s open' % i)\n",
    "        for j in range(J):\n",
    "            if x[i, j].x > 0:  #chooses the continuous x variables which get a nonzero value\n",
    "                print('  ships %g thousand units to customer %s' %\n",
    "                      (x[i,j].x, j))\n",
    "    else:\n",
    "        print('Facility %s closed!' % i)"
   ]
  },
  {
   "cell_type": "markdown",
   "metadata": {},
   "source": [
    "#### Optional Step: Exporting the LP File for Debugging\n",
    "Do you think that something is wrong with your model? Export it to an LP file and check if it is in the desired shape."
   ]
  },
  {
   "cell_type": "code",
   "execution_count": null,
   "metadata": {},
   "outputs": [],
   "source": [
    "m.write(\"checkModel.lp\")"
   ]
  }
 ],
 "metadata": {
  "kernelspec": {
   "display_name": "Python 3",
   "language": "python",
   "name": "python3"
  },
  "language_info": {
   "codemirror_mode": {
    "name": "ipython",
    "version": 3
   },
   "file_extension": ".py",
   "mimetype": "text/x-python",
   "name": "python",
   "nbconvert_exporter": "python",
   "pygments_lexer": "ipython3",
   "version": "3.8.5"
  }
 },
 "nbformat": 4,
 "nbformat_minor": 4
}
