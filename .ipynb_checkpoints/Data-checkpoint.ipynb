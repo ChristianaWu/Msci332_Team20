{
 "cells": [
  {
   "cell_type": "markdown",
   "metadata": {},
   "source": [
    "Initializing the mamimum battery life (T), the number of nodes in the system (N) and the cost of delivery (c)"
   ]
  },
  {
   "cell_type": "code",
   "execution_count": 43,
   "metadata": {},
   "outputs": [
    {
     "name": "stdout",
     "output_type": "stream",
     "text": [
      "4.82\n",
      "20\n"
     ]
    }
   ],
   "source": [
    "import random\n",
    "T = random.randrange(20,30)\n",
    "N = random.randrange(18,25)\n",
    "c = float(\"{:.2f}\".format(random.random() * (5 - 3.75) + 3.75))"
   ]
  },
  {
   "cell_type": "markdown",
   "metadata": {},
   "source": [
    "Initilizing the tij time values"
   ]
  },
  {
   "cell_type": "code",
   "execution_count": 44,
   "metadata": {},
   "outputs": [
    {
     "name": "stdout",
     "output_type": "stream",
     "text": [
      "[[2 3 1 4 3 3 1 1 4 4 3 4 1 4 2 1 3 4 2 4]\n",
      " [0 2 2 3 1 4 4 4 1 4 4 2 4 3 1 2 2 3 2 2]\n",
      " [0 0 1 1 3 1 2 3 4 4 2 3 3 1 3 4 3 4 4 2]\n",
      " [0 0 0 3 1 2 2 1 1 1 1 4 2 1 1 1 4 1 2 3]\n",
      " [0 0 0 0 3 3 4 4 1 2 3 3 2 3 1 3 3 1 4 2]\n",
      " [0 0 0 0 0 2 3 1 1 4 1 3 2 4 1 2 2 4 4 3]\n",
      " [0 0 0 0 0 0 3 1 1 1 3 2 2 2 4 4 2 2 3 1]\n",
      " [0 0 0 0 0 0 0 3 1 3 1 1 4 3 3 1 3 1 2 1]\n",
      " [0 0 0 0 0 0 0 0 3 1 4 2 3 1 1 2 3 4 2 1]\n",
      " [0 0 0 0 0 0 0 0 0 4 3 3 2 4 2 3 2 3 2 3]\n",
      " [0 0 0 0 0 0 0 0 0 0 2 3 1 3 2 3 3 3 2 1]\n",
      " [0 0 0 0 0 0 0 0 0 0 0 4 2 3 2 3 1 3 4 1]\n",
      " [0 0 0 0 0 0 0 0 0 0 0 0 4 3 3 2 3 4 3 3]\n",
      " [0 0 0 0 0 0 0 0 0 0 0 0 0 3 4 4 3 2 2 2]\n",
      " [0 0 0 0 0 0 0 0 0 0 0 0 0 0 3 2 2 1 2 1]\n",
      " [0 0 0 0 0 0 0 0 0 0 0 0 0 0 0 4 4 4 1 3]\n",
      " [0 0 0 0 0 0 0 0 0 0 0 0 0 0 0 0 2 1 2 2]\n",
      " [0 0 0 0 0 0 0 0 0 0 0 0 0 0 0 0 0 1 2 2]\n",
      " [0 0 0 0 0 0 0 0 0 0 0 0 0 0 0 0 0 0 1 2]\n",
      " [0 0 0 0 0 0 0 0 0 0 0 0 0 0 0 0 0 0 0 2]]\n"
     ]
    }
   ],
   "source": [
    "import numpy as np\n",
    "tij_matrix = [ [ random.randrange(1,5) for i in range(N) ] for j in range(N) ]\n",
    "tij_matrix = np.triu(tij_matrix, k = 0)\n",
    "print(tij_matrix)"
   ]
  },
  {
   "cell_type": "markdown",
   "metadata": {},
   "source": [
    "Initializing the dj delay values at each node"
   ]
  },
  {
   "cell_type": "code",
   "execution_count": 45,
   "metadata": {},
   "outputs": [
    {
     "name": "stdout",
     "output_type": "stream",
     "text": [
      "[0, 0.22, 0.24, 0.25, 0.18, 0.21, 0.22, 0.2, 0.23, 0.23, 0.18, 0.23, 0.23, 0.22, 0.15, 0.16, 0.24, 0.15, 0.23, 0]\n"
     ]
    }
   ],
   "source": [
    "dj_list = []\n",
    "for i in range(N):\n",
    "    number = float(\"{:.2f}\".format(random.random() * (0.25 - 0.15) + 0.15))   \n",
    "    dj_list.append(number)\n",
    "dj_list[-1] = 0\n",
    "dj_list[0] = 0\n",
    "print(dj_list)"
   ]
  },
  {
   "cell_type": "code",
   "execution_count": null,
   "metadata": {},
   "outputs": [],
   "source": []
  }
 ],
 "metadata": {
  "kernelspec": {
   "display_name": "Python 3",
   "language": "python",
   "name": "python3"
  },
  "language_info": {
   "codemirror_mode": {
    "name": "ipython",
    "version": 3
   },
   "file_extension": ".py",
   "mimetype": "text/x-python",
   "name": "python",
   "nbconvert_exporter": "python",
   "pygments_lexer": "ipython3",
   "version": "3.8.5"
  }
 },
 "nbformat": 4,
 "nbformat_minor": 4
}
