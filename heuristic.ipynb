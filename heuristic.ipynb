{
 "cells": [
  {
   "cell_type": "markdown",
   "metadata": {},
   "source": [
    "#### Step 4: Define your parameters"
   ]
  },
  {
   "cell_type": "code",
   "execution_count": 15,
   "metadata": {},
   "outputs": [
    {
     "name": "stdout",
     "output_type": "stream",
     "text": [
      "{1: [(2, 1), (3, 4)],\n",
      " 2: [(4, 2), (5, 2), (6, 2)],\n",
      " 3: [(6, 3)],\n",
      " 4: [(5, 8), (9, 2)],\n",
      " 5: [(8, 3)],\n",
      " 6: [(7, 7), (8, 5)],\n",
      " 7: [(8, 4), (11, 7)],\n",
      " 8: [(9, 8), (10, 2), (11, 4)],\n",
      " 9: [(12, 6), (13, 1)],\n",
      " 10: [(12, 5)],\n",
      " 11: [(12, 7), (14, 4)],\n",
      " 12: [(13, 6), (14, 8)],\n",
      " 13: [(15, 1)],\n",
      " 14: [(16, 6), (17, 5)],\n",
      " 15: [(16, 3), (18, 1)],\n",
      " 16: [(17, 7), (18, 8)],\n",
      " 17: [(18, 5)],\n",
      " 18: []}\n",
      "{1: 0,\n",
      " 2: 0,\n",
      " 3: 3,\n",
      " 4: 1,\n",
      " 5: 1,\n",
      " 6: 1,\n",
      " 7: 3,\n",
      " 8: 2,\n",
      " 9: 1,\n",
      " 10: 4,\n",
      " 11: 1,\n",
      " 12: 2,\n",
      " 13: 0,\n",
      " 14: 4,\n",
      " 15: 1,\n",
      " 16: 1,\n",
      " 17: 1,\n",
      " 18: 0}\n"
     ]
    }
   ],
   "source": [
    "import pprint\n",
    "test_file = None\n",
    "\n",
    "# Uncomment the file you want to test\n",
    "#test_file = \"test1.txt\"\n",
    "test_file = \"test2.txt\"\n",
    "#test_file = \"test3.txt\"\n",
    "#test_file = \"test4.txt\"\n",
    "#test_file = \"test5.txt\"\n",
    "\n",
    "arcs = [(1,2), (1,3), \n",
    "        (2,4), (2,5), (2, 6), \n",
    "        (3, 6), \n",
    "        (4, 5), (4, 9), \n",
    "        (5,8),\n",
    "        (6, 7),(6, 8),\n",
    "        (7, 8),(7, 11),\n",
    "        (8, 9),(8, 10),(8, 11),\n",
    "        (9, 12),(9, 13),\n",
    "        (10,12),\n",
    "        (11,12),(11,14),\n",
    "        (12,13),(12,14),\n",
    "        (13,15),\n",
    "        (14,16),(14,17),\n",
    "        (15,16),(15,18),\n",
    "        (16,17),(16,18),\n",
    "        (17,18)]\n",
    "\n",
    "# tij the time from node i to j\n",
    "A = {}\n",
    "D = {}\n",
    "\n",
    "for i in range(1,19):\n",
    "    A[i] = []\n",
    "\n",
    "\n",
    "test_name = None\n",
    "\n",
    "if test_file:\n",
    "    with open(test_file) as f:\n",
    "        test_name = next(f)\n",
    "        [next(f) for _ in range(2)]\n",
    "        for i in range(31):\n",
    "            arc_data = next(f).split()\n",
    "            A[int(arc_data[0])].append((int(arc_data[-2]),int(arc_data[-1])))\n",
    "        [next(f) for _ in range(2)]\n",
    "        for _ in range(18):\n",
    "            delay_data = next(f).split()\n",
    "            D[int(delay_data[0])] = int(delay_data[-1])\n",
    "    \n",
    "pprint.pprint(A)\n",
    "pprint.pprint(D)"
   ]
  },
  {
   "cell_type": "code",
   "execution_count": 12,
   "metadata": {},
   "outputs": [
    {
     "name": "stdout",
     "output_type": "stream",
     "text": [
      "Feasible Solution\n",
      "Drone Path: [1, 2, 4, 9, 13, 15, 18]\n",
      "Objective value: 11\n"
     ]
    }
   ],
   "source": [
    "PA = [1]\n",
    "OV = 0\n",
    "\n",
    "while(18 not in PA):\n",
    "    current_node = PA[-1]\n",
    "    adjacent_nodes = A[current_node]\n",
    "    times = {}\n",
    "    for (node, arc_time) in adjacent_nodes:\n",
    "        times[arc_time + D[node]] = node\n",
    "    min_total_time = min(times.keys())\n",
    "    next_node = times[min_total_time]\n",
    "    OV += min_total_time\n",
    "    PA.append(next_node)\n",
    "  \n",
    "print(\"Feasible Solution\")\n",
    "print(f'Drone Path: {PA}')\n",
    "print(f'Objective value: {OV}')"
   ]
  },
  {
   "cell_type": "code",
   "execution_count": null,
   "metadata": {},
   "outputs": [],
   "source": []
  }
 ],
 "metadata": {
  "kernelspec": {
   "display_name": "Python 3",
   "language": "python",
   "name": "python3"
  },
  "language_info": {
   "codemirror_mode": {
    "name": "ipython",
    "version": 3
   },
   "file_extension": ".py",
   "mimetype": "text/x-python",
   "name": "python",
   "nbconvert_exporter": "python",
   "pygments_lexer": "ipython3",
   "version": "3.8.8"
  }
 },
 "nbformat": 4,
 "nbformat_minor": 4
}
