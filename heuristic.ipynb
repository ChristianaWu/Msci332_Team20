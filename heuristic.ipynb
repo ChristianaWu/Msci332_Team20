{
 "cells": [
  {
   "cell_type": "markdown",
   "metadata": {},
   "source": [
    "#### Code Setup"
   ]
  },
  {
   "cell_type": "code",
   "execution_count": 54,
   "metadata": {},
   "outputs": [],
   "source": [
    "import pprint\n",
    "test_file = None\n",
    "\n",
    "# Uncomment the file you want to test\n",
    "test_file = \"test1.txt\"\n",
    "#test_file = \"test2.txt\"\n",
    "#test_file = \"test3.txt\"\n",
    "#test_file = \"test4.txt\"\n",
    "#test_file = \"test5.txt\"\n",
    "\n",
    "arcs = [(1,2), (1,3), \n",
    "        (2,4), (2,5), (2, 6), \n",
    "        (3, 6), \n",
    "        (4, 5), (4, 9), \n",
    "        (5,8),\n",
    "        (6, 7),(6, 8),\n",
    "        (7, 8),(7, 11),\n",
    "        (8, 9),(8, 10),(8, 11),\n",
    "        (9, 12),(9, 13),\n",
    "        (10,12),\n",
    "        (11,12),(11,14),\n",
    "        (12,13),(12,14),\n",
    "        (13,15),\n",
    "        (14,16),(14,17),\n",
    "        (15,16),(15,18),\n",
    "        (16,17),(16,18),\n",
    "        (17,18)]\n",
    "\n",
    "# tij the time from node i to j\n",
    "A = {}\n",
    "D = {}\n",
    "\n",
    "for i in range(1,19):\n",
    "    A[i] = []\n",
    "\n",
    "\n",
    "test_name = None\n",
    "\n",
    "if test_file:\n",
    "    with open(test_file) as f:\n",
    "        test_name = next(f)\n",
    "        [next(f) for _ in range(2)]\n",
    "        for i in range(31):\n",
    "            arc_data = next(f).split()\n",
    "            A[int(arc_data[0])].append((int(arc_data[-2]),int(arc_data[-1])))\n",
    "        [next(f) for _ in range(2)]\n",
    "        for _ in range(18):\n",
    "            delay_data = next(f).split()\n",
    "            D[int(delay_data[0])] = int(delay_data[-1])\n",
    "    \n",
    "# pprint.pprint(A)\n",
    "# pprint.pprint(D)"
   ]
  },
  {
   "cell_type": "markdown",
   "metadata": {},
   "source": [
    "#### Greedy Algorithm"
   ]
  },
  {
   "cell_type": "code",
   "execution_count": 57,
   "metadata": {},
   "outputs": [
    {
     "name": "stdout",
     "output_type": "stream",
     "text": [
      "Feasible Solution\n",
      "Drone Path: [1, 2, 4, 9, 13, 15, 18]\n",
      "Objective value: 11\n"
     ]
    }
   ],
   "source": [
    "PA = [1]\n",
    "OV = 0\n",
    "\n",
    "while(18 not in PA):\n",
    "    current_node = PA[-1]\n",
    "    adjacent_nodes = A[current_node]\n",
    "    times = {}\n",
    "    for (node, arc_time) in adjacent_nodes:\n",
    "        times[arc_time + D[node]] = node\n",
    "    min_total_time = min(times.keys())\n",
    "    next_node = times[min_total_time]\n",
    "    OV += min_total_time\n",
    "    PA.append(next_node)\n",
    "  \n",
    "print(\"Feasible Solution\")\n",
    "print(f'Drone Path: {PA}')\n",
    "print(f'Objective value: {OV}')"
   ]
  },
  {
   "cell_type": "markdown",
   "metadata": {},
   "source": [
    "#### Random Algorithm"
   ]
  },
  {
   "cell_type": "code",
   "execution_count": 59,
   "metadata": {},
   "outputs": [
    {
     "name": "stdout",
     "output_type": "stream",
     "text": [
      "\n",
      "Feasible Solution\n",
      "Drone Path: [1, 2, 4, 9, 13, 15, 18]\n",
      "Objective value: 11\n"
     ]
    }
   ],
   "source": [
    "import random\n",
    "\n",
    "min_OV = 10**6\n",
    "best_path = []\n",
    "\n",
    "for i in range(500):\n",
    "    PA = [1]\n",
    "    OV = 0\n",
    "\n",
    "    while(18 not in PA):\n",
    "        current_node = PA[-1]\n",
    "        adjacent_nodes = A[current_node]\n",
    "        next_node = random.choice(adjacent_nodes)\n",
    "        OV += next_node[1] + D[next_node[0]]\n",
    "        PA.append(next_node[0])\n",
    "    # uncomment next line to see results of each iteration\n",
    "    # print(f'iteration {i+1}: (obj val: {OV}) {PA}')\n",
    "    if OV < min_OV:\n",
    "        min_OV = OV\n",
    "        best_path = PA\n",
    "\n",
    "print(\"\\nFeasible Solution\")\n",
    "print(f'Drone Path: {best_path}')\n",
    "print(f'Objective value: {min_OV}')"
   ]
  },
  {
   "cell_type": "code",
   "execution_count": null,
   "metadata": {},
   "outputs": [],
   "source": []
  }
 ],
 "metadata": {
  "kernelspec": {
   "display_name": "Python 3",
   "language": "python",
   "name": "python3"
  },
  "language_info": {
   "codemirror_mode": {
    "name": "ipython",
    "version": 3
   },
   "file_extension": ".py",
   "mimetype": "text/x-python",
   "name": "python",
   "nbconvert_exporter": "python",
   "pygments_lexer": "ipython3",
   "version": "3.8.8"
  }
 },
 "nbformat": 4,
 "nbformat_minor": 4
}
