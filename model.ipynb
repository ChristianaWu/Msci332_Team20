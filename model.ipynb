{
 "cells": [
  {
   "cell_type": "markdown",
   "metadata": {},
   "source": [
    "#### Step 1: Import gurobipy module"
   ]
  },
  {
   "cell_type": "code",
   "execution_count": 1,
   "metadata": {},
   "outputs": [],
   "source": [
    "import gurobipy as gp\n",
    "from gurobipy import GRB"
   ]
  },
  {
   "cell_type": "markdown",
   "metadata": {},
   "source": [
    "#### Step 2: Define your model"
   ]
  },
  {
   "cell_type": "code",
   "execution_count": 2,
   "metadata": {},
   "outputs": [
    {
     "name": "stdout",
     "output_type": "stream",
     "text": [
      "Set parameter Username\n",
      "Academic license - for non-commercial use only - expires 2022-01-08\n"
     ]
    }
   ],
   "source": [
    "m = gp.Model()"
   ]
  },
  {
   "cell_type": "markdown",
   "metadata": {},
   "source": [
    "#### Step 4: Define your parameters"
   ]
  },
  {
   "cell_type": "code",
   "execution_count": 3,
   "metadata": {},
   "outputs": [],
   "source": [
    "test_file = None\n",
    "\n",
    "# Uncomment the file you want to test\n",
    "test_file = \"test1.txt\"\n",
    "#test_file = \"test2.txt\"\n",
    "#test_file = \"test3.txt\"\n",
    "#test_file = \"test4.txt\"\n",
    "#test_file = \"test5.txt\"\n",
    "\n",
    "parameters = {\n",
    "    \"N\": 0,\n",
    "    \"D\": 0,\n",
    "    \"c\": 0,\n",
    "    \"p\": 0,\n",
    "    \"H\": 0\n",
    "}\n",
    "\n",
    "arcs = [(1,2), (1,3), \n",
    "        (2,4), (2,5), (2, 6), \n",
    "        (3, 6), \n",
    "        (4, 5), (4, 9), \n",
    "        (5,8),\n",
    "        (6, 7),(6, 8),\n",
    "        (7, 8),(7, 11),\n",
    "        (8, 9),(8, 10),(8, 11),\n",
    "        (9, 12),(9, 13),\n",
    "        (10,12),\n",
    "        (11,12),(11,14),\n",
    "        (12,13),(12,14),\n",
    "        (13,15),\n",
    "        (14,16),(14,17),\n",
    "        (15,16),(15,18),\n",
    "        (16,17),(16,18),\n",
    "        (17,18)]\n",
    "\n",
    "# tij the time from node i to j\n",
    "t = {}\n",
    "\n",
    "# dj the delay at each node\n",
    "d = []\n",
    "\n",
    "test_name = None\n",
    "\n",
    "if test_file:\n",
    "    with open(test_file) as f:\n",
    "        test_name = next(f)\n",
    "        next(f)\n",
    "        for _ in range(5):\n",
    "            [variable, value] = next(f).split(\"=\")\n",
    "            if variable in parameters:\n",
    "                parameters[variable] = float(value)\n",
    "        [next(f) for _ in range(2)]\n",
    "        for i in range(31):\n",
    "            t[arcs[i]] = int(next(f).split()[-1])\n",
    "        [next(f) for _ in range(2)]\n",
    "        for _ in range(18):\n",
    "            d.append(int(next(f).split()[-1]))\n",
    "    \n",
    "# Number of nodes in the network\n",
    "N = int(parameters[\"N\"])\n",
    "\n",
    "# Destination Node\n",
    "D = int(parameters[\"D\"])\n",
    "\n",
    "# discount time limit\n",
    "H = int(parameters[\"H\"])\n",
    "\n",
    "# cost\n",
    "c = parameters[\"c\"]\n",
    "\n",
    "# penalty cost increase\n",
    "p = parameters[\"p\"]\n",
    "      \n",
    "# Big M\n",
    "M = 10**15"
   ]
  },
  {
   "cell_type": "code",
   "execution_count": 4,
   "metadata": {},
   "outputs": [],
   "source": [
    "import random\n",
    "import math\n",
    "\n",
    "# Uncomment below to generate random data\n",
    "\n",
    "# #Number of nodes in the network\n",
    "# N = 18\n",
    "# D = 18\n",
    "\n",
    "# #cost\n",
    "# c = random.randrange(3,5)\n",
    "\n",
    "# #penalty cost increase\n",
    "# p = random.uniform(1.5, 2.0)\n",
    "\n",
    "# #discount time limit\n",
    "# H = random.randrange(20,30)\n",
    "\n",
    "# #tij the time from node i to j\n",
    "# t = {}\n",
    "# for i,j in arcs:\n",
    "#     t[i,j] = random.randrange(5,10)  \n",
    "\n",
    "# #dj the delay at each node\n",
    "# d = []\n",
    "# for i in range(N):\n",
    "#     number = random.randrange(0,3)  \n",
    "#     d.append(number)\n",
    "# d[D - 1] = 0\n",
    "# d[0] = 0\n",
    "\n",
    "\n"
   ]
  },
  {
   "cell_type": "markdown",
   "metadata": {},
   "source": [
    "#### Step 3: Define your sets"
   ]
  },
  {
   "cell_type": "code",
   "execution_count": 5,
   "metadata": {},
   "outputs": [],
   "source": [
    "#number of Nodes\n",
    "S = N"
   ]
  },
  {
   "cell_type": "markdown",
   "metadata": {},
   "source": [
    "#### Step 5: Define your decision variables"
   ]
  },
  {
   "cell_type": "code",
   "execution_count": 6,
   "metadata": {},
   "outputs": [],
   "source": [
    "# objective variables\n",
    "tplus = m.addVar(vtype = GRB.CONTINUOUS, lb = 0.0, obj= 2, name = \"t+\")\n",
    "cplus = m.addVar(vtype = GRB.CONTINUOUS, lb = 0.0, obj = 5, name = \"c+\")\n",
    "\n",
    "# normal variables\n",
    "tminus = m.addVar(vtype =GRB.CONTINUOUS, lb = 0.0, name = \"t-\")\n",
    "cminus = m.addVar(vtype = GRB.CONTINUOUS, lb = 0.0, name = \"c-\")\n",
    "\n",
    "x = {}\n",
    "for i in range(S + 1):\n",
    "    for j in range(S + 1):\n",
    "        if (i, j) in t:\n",
    "            x[i,j] = m.addVar(vtype=GRB.BINARY, lb=0.0, name=\"x_\"+str(i)+str(j))\n",
    "\n",
    "R = m.addVar(vtype=GRB.BINARY)\n",
    "\n",
    "C = m.addVar(vtype = GRB.INTEGER, lb = 0.0)\n",
    "\n",
    "Y = m.addVar(vtype = GRB.INTEGER, lb = 0.0)\n"
   ]
  },
  {
   "cell_type": "markdown",
   "metadata": {},
   "source": [
    "#### Step 6: Set your objective function"
   ]
  },
  {
   "cell_type": "code",
   "execution_count": 7,
   "metadata": {},
   "outputs": [],
   "source": [
    "m.modelSense = GRB.MINIMIZE"
   ]
  },
  {
   "cell_type": "markdown",
   "metadata": {},
   "source": [
    "#### Step 6: Add your constraints"
   ]
  },
  {
   "cell_type": "code",
   "execution_count": 8,
   "metadata": {},
   "outputs": [],
   "source": [
    "m.addConstr(Y == (sum((x[i,j] * (t[i,j] + d[j - 1])) for i,j in arcs ))) #1\n",
    "\n",
    "m.addConstr(M*R >= Y-H) #2 \n",
    "\n",
    "m.addConstr(C >= (c + R*p*(Y-H))) #3\n",
    "\n",
    "m.addConstr((C - (cplus - cminus)) == 10) #4 \n",
    "\n",
    "m.addConstr(sum(x[1,j] for j in range(2,S + 1) if (1,j) in arcs) == 1) #5\n",
    "\n",
    "m.addConstr((sum(x[i,D] for i in range(S) if ((i,D) in x and i != D))) == 1) #6\n",
    "\n",
    "for k in range(2, S):\n",
    "    m.addConstr((sum(x[i,k] for i in range(S + 1) if (i,k) in x and i != k)) == (sum(x[k,j] for j in range(S + 1) if (k,j) in x and j != k))) #7\n",
    "\n",
    "m.addConstr((Y - (tplus - tminus)) == 20) #8\n",
    "\n",
    "\n",
    "m.update()"
   ]
  },
  {
   "cell_type": "markdown",
   "metadata": {},
   "source": [
    "#### Step 7: Solve the model"
   ]
  },
  {
   "cell_type": "code",
   "execution_count": 9,
   "metadata": {},
   "outputs": [
    {
     "name": "stdout",
     "output_type": "stream",
     "text": [
      "Gurobi Optimizer version 9.5.0 build v9.5.0rc5 (mac64[x86])\n",
      "Thread count: 2 physical cores, 4 logical processors, using up to 4 threads\n",
      "Optimize a model with 22 rows, 38 columns and 102 nonzeros\n",
      "Model fingerprint: 0x808f45f5\n",
      "Model has 1 quadratic constraint\n",
      "Variable types: 4 continuous, 34 integer (32 binary)\n",
      "Coefficient statistics:\n",
      "  Matrix range     [1e+00, 1e+15]\n",
      "  QMatrix range    [2e+00, 2e+00]\n",
      "  QLMatrix range   [1e+00, 3e+01]\n",
      "  Objective range  [2e+00, 5e+00]\n",
      "  Bounds range     [1e+00, 1e+00]\n",
      "  RHS range        [1e+00, 2e+01]\n",
      "  QRHS range       [3e+00, 3e+00]\n",
      "Warning: Model contains large matrix coefficient range\n",
      "         Consider reformulating model or setting NumericFocus parameter\n",
      "         to avoid numerical issues.\n",
      "Presolve removed 5 rows and 8 columns\n",
      "Presolve time: 0.00s\n",
      "Presolved: 17 rows, 30 columns, 80 nonzeros\n",
      "Variable types: 0 continuous, 30 integer (26 binary)\n",
      "Found heuristic solution: objective 0.0000000\n",
      "\n",
      "Root relaxation: cutoff, 0 iterations, 0.00 seconds (0.00 work units)\n",
      "\n",
      "Explored 1 nodes (0 simplex iterations) in 0.07 seconds (0.00 work units)\n",
      "Thread count was 4 (of 4 available processors)\n",
      "\n",
      "Solution count 1: 0 \n",
      "\n",
      "Optimal solution found (tolerance 1.00e-04)\n",
      "Best objective 0.000000000000e+00, best bound 0.000000000000e+00, gap 0.0000%\n"
     ]
    }
   ],
   "source": [
    "#m.Params.TimeLimit=300 #(seconds) optional: sets a time limit for optimization only if you need to prematurely stop the solution procedure\n",
    "m.optimize()\n"
   ]
  },
  {
   "cell_type": "markdown",
   "metadata": {},
   "source": [
    "#### Final Solution"
   ]
  },
  {
   "cell_type": "code",
   "execution_count": 10,
   "metadata": {},
   "outputs": [
    {
     "name": "stdout",
     "output_type": "stream",
     "text": [
      "Test 1: Where Y < H (Y < 20 and C <= 10)\n",
      "\n",
      "H = 20    c = 3.0    p = 1.5\n",
      "Y = 11.0\n",
      "C = 10.0\n",
      "\n",
      " node i  node j     xij     tij      dj\n",
      "      1       2     1.0       1       0\n",
      "      2       4     1.0       2       1\n",
      "      4       9     1.0       2       1\n",
      "      9      13     1.0       1       0\n",
      "     13      15     1.0       1       1\n",
      "     15      18     1.0       1       0\n"
     ]
    }
   ],
   "source": [
    "f = '{: >7} {: >7} {: >7} {: >7} {: >7}'\n",
    "\n",
    "if m.status == GRB.Status.OPTIMAL:\n",
    "    if test_name:\n",
    "        print(test_name)\n",
    "    print(f'H = {H}    c = {c}    p = {p}')\n",
    "    print(f'Y = {Y.X}')\n",
    "    print(f'C = {C.X}\\n')\n",
    "    print(f'{f}'.format(*['node i', 'node j', 'xij', 'tij', 'dj']))\n",
    "    for i,j in arcs:\n",
    "        if(x[i,j].x > 0):\n",
    "            print(f'{f}'.format(*[i, j, x[i,j].x, t[i,j], d[j - 1]]))"
   ]
  },
  {
   "cell_type": "markdown",
   "metadata": {},
   "source": [
    "#### Step 8: List of Variables"
   ]
  },
  {
   "cell_type": "code",
   "execution_count": 11,
   "metadata": {
    "scrolled": true
   },
   "outputs": [
    {
     "name": "stdout",
     "output_type": "stream",
     "text": [
      "t+ 0\n",
      "c+ 0\n",
      "t- 9\n",
      "c- -0\n",
      "x_12 1\n",
      "x_13 0\n",
      "x_24 1\n",
      "x_25 -0\n",
      "x_26 -0\n",
      "x_36 -0\n",
      "x_45 -0\n",
      "x_49 1\n",
      "x_58 -0\n",
      "x_67 -0\n",
      "x_68 -0\n",
      "x_78 -0\n",
      "x_711 -0\n",
      "x_89 -0\n",
      "x_810 -0\n",
      "x_811 -0\n",
      "x_912 -0\n",
      "x_913 1\n",
      "x_1012 0\n",
      "x_1112 -0\n",
      "x_1114 -0\n",
      "x_1213 -0\n",
      "x_1214 -0\n",
      "x_1315 1\n",
      "x_1416 -0\n",
      "x_1417 -0\n",
      "x_1516 -0\n",
      "x_1518 1\n",
      "x_1617 -0\n",
      "x_1618 -0\n",
      "x_1718 0\n",
      "C35 1\n",
      "C36 10\n",
      "C37 11\n"
     ]
    }
   ],
   "source": [
    "for myVars in m.getVars():\n",
    "    print('%s %g' % (myVars.varName, myVars.x))\n",
    "    \n",
    "#https://docs.python.org/2.4/lib/typesseq-strings.html"
   ]
  }
 ],
 "metadata": {
  "kernelspec": {
   "display_name": "Python 3",
   "language": "python",
   "name": "python3"
  },
  "language_info": {
   "codemirror_mode": {
    "name": "ipython",
    "version": 3
   },
   "file_extension": ".py",
   "mimetype": "text/x-python",
   "name": "python",
   "nbconvert_exporter": "python",
   "pygments_lexer": "ipython3",
   "version": "3.8.8"
  }
 },
 "nbformat": 4,
 "nbformat_minor": 4
}
